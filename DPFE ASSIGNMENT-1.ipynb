{
 "cells": [
  {
   "cell_type": "raw",
   "id": "2b1fe4bb-7c62-4640-bb72-1d7758e08ebe",
   "metadata": {},
   "source": [
    "#Arjun Ajeesh\n",
    "#USN:21BTRCD005"
   ]
  },
  {
   "cell_type": "code",
   "execution_count": 3,
   "id": "233bda8c-49dc-4398-96a4-dd910e47e6d9",
   "metadata": {},
   "outputs": [],
   "source": [
    "import pandas as pd\n",
    "import numpy as np"
   ]
  },
  {
   "cell_type": "code",
   "execution_count": 4,
   "id": "2e39fe10-bf36-4ddb-b6c7-70bc3a0038f0",
   "metadata": {},
   "outputs": [],
   "source": [
    "#Creating a dataset of house\n",
    "\n",
    "data = {'Rooms': [1,1,2,2,3,3,np.nan, 4],\n",
    "        'Bathrooms': [1,2,1,2,2,3,2, np.nan],\n",
    "        'Square_Footage': [800, 900, 1000, 1200, 1400, 1500, 1700, 2100],\n",
    "        'Neighborhood': ['rural','rural','urban','rural','urban','urban','urban','rural'],\n",
    "        'Year_Built': [1991, 2004, 1994, 2002, 2003, 1989, np.nan, 2012],\n",
    "        'Price': [3000000, 3500000, 4500000, 5000000, 6500000, 7000000, 8000000, np.nan]}\n"
   ]
  },
  {
   "cell_type": "code",
   "execution_count": 5,
   "id": "fe74000f-5a6c-4e8e-ad68-3bf290eed9c5",
   "metadata": {},
   "outputs": [],
   "source": [
    "house_data = pd.DataFrame(data)"
   ]
  },
  {
   "cell_type": "code",
   "execution_count": 6,
   "id": "65a473f0-07d1-46e4-aeca-c65c6e2eb9cf",
   "metadata": {},
   "outputs": [
    {
     "data": {
      "text/html": [
       "<div>\n",
       "<style scoped>\n",
       "    .dataframe tbody tr th:only-of-type {\n",
       "        vertical-align: middle;\n",
       "    }\n",
       "\n",
       "    .dataframe tbody tr th {\n",
       "        vertical-align: top;\n",
       "    }\n",
       "\n",
       "    .dataframe thead th {\n",
       "        text-align: right;\n",
       "    }\n",
       "</style>\n",
       "<table border=\"1\" class=\"dataframe\">\n",
       "  <thead>\n",
       "    <tr style=\"text-align: right;\">\n",
       "      <th></th>\n",
       "      <th>Rooms</th>\n",
       "      <th>Bathrooms</th>\n",
       "      <th>Square_Footage</th>\n",
       "      <th>Neighborhood</th>\n",
       "      <th>Year_Built</th>\n",
       "      <th>Price</th>\n",
       "    </tr>\n",
       "  </thead>\n",
       "  <tbody>\n",
       "    <tr>\n",
       "      <th>0</th>\n",
       "      <td>1.0</td>\n",
       "      <td>1.0</td>\n",
       "      <td>800</td>\n",
       "      <td>rural</td>\n",
       "      <td>1991.0</td>\n",
       "      <td>3000000.0</td>\n",
       "    </tr>\n",
       "    <tr>\n",
       "      <th>1</th>\n",
       "      <td>1.0</td>\n",
       "      <td>2.0</td>\n",
       "      <td>900</td>\n",
       "      <td>rural</td>\n",
       "      <td>2004.0</td>\n",
       "      <td>3500000.0</td>\n",
       "    </tr>\n",
       "    <tr>\n",
       "      <th>2</th>\n",
       "      <td>2.0</td>\n",
       "      <td>1.0</td>\n",
       "      <td>1000</td>\n",
       "      <td>urban</td>\n",
       "      <td>1994.0</td>\n",
       "      <td>4500000.0</td>\n",
       "    </tr>\n",
       "    <tr>\n",
       "      <th>3</th>\n",
       "      <td>2.0</td>\n",
       "      <td>2.0</td>\n",
       "      <td>1200</td>\n",
       "      <td>rural</td>\n",
       "      <td>2002.0</td>\n",
       "      <td>5000000.0</td>\n",
       "    </tr>\n",
       "    <tr>\n",
       "      <th>4</th>\n",
       "      <td>3.0</td>\n",
       "      <td>2.0</td>\n",
       "      <td>1400</td>\n",
       "      <td>urban</td>\n",
       "      <td>2003.0</td>\n",
       "      <td>6500000.0</td>\n",
       "    </tr>\n",
       "    <tr>\n",
       "      <th>5</th>\n",
       "      <td>3.0</td>\n",
       "      <td>3.0</td>\n",
       "      <td>1500</td>\n",
       "      <td>urban</td>\n",
       "      <td>1989.0</td>\n",
       "      <td>7000000.0</td>\n",
       "    </tr>\n",
       "    <tr>\n",
       "      <th>6</th>\n",
       "      <td>NaN</td>\n",
       "      <td>2.0</td>\n",
       "      <td>1700</td>\n",
       "      <td>urban</td>\n",
       "      <td>NaN</td>\n",
       "      <td>8000000.0</td>\n",
       "    </tr>\n",
       "    <tr>\n",
       "      <th>7</th>\n",
       "      <td>4.0</td>\n",
       "      <td>NaN</td>\n",
       "      <td>2100</td>\n",
       "      <td>rural</td>\n",
       "      <td>2012.0</td>\n",
       "      <td>NaN</td>\n",
       "    </tr>\n",
       "  </tbody>\n",
       "</table>\n",
       "</div>"
      ],
      "text/plain": [
       "   Rooms  Bathrooms  Square_Footage Neighborhood  Year_Built      Price\n",
       "0    1.0        1.0             800        rural      1991.0  3000000.0\n",
       "1    1.0        2.0             900        rural      2004.0  3500000.0\n",
       "2    2.0        1.0            1000        urban      1994.0  4500000.0\n",
       "3    2.0        2.0            1200        rural      2002.0  5000000.0\n",
       "4    3.0        2.0            1400        urban      2003.0  6500000.0\n",
       "5    3.0        3.0            1500        urban      1989.0  7000000.0\n",
       "6    NaN        2.0            1700        urban         NaN  8000000.0\n",
       "7    4.0        NaN            2100        rural      2012.0        NaN"
      ]
     },
     "execution_count": 6,
     "metadata": {},
     "output_type": "execute_result"
    }
   ],
   "source": [
    "house_data"
   ]
  },
  {
   "cell_type": "markdown",
   "id": "23b0a637-a225-4d06-95c8-61cd9f4e5aa2",
   "metadata": {},
   "source": [
    "print(house_data)"
   ]
  },
  {
   "cell_type": "markdown",
   "id": "2171f6a6-4888-43c5-aeaf-828e9f0ffe38",
   "metadata": {},
   "source": [
    "#removing rows with missing values\n"
   ]
  },
  {
   "cell_type": "code",
   "execution_count": 7,
   "id": "b9c8328b-f8b3-4970-b2dd-3da672eabee3",
   "metadata": {},
   "outputs": [
    {
     "data": {
      "text/html": [
       "<div>\n",
       "<style scoped>\n",
       "    .dataframe tbody tr th:only-of-type {\n",
       "        vertical-align: middle;\n",
       "    }\n",
       "\n",
       "    .dataframe tbody tr th {\n",
       "        vertical-align: top;\n",
       "    }\n",
       "\n",
       "    .dataframe thead th {\n",
       "        text-align: right;\n",
       "    }\n",
       "</style>\n",
       "<table border=\"1\" class=\"dataframe\">\n",
       "  <thead>\n",
       "    <tr style=\"text-align: right;\">\n",
       "      <th></th>\n",
       "      <th>Rooms</th>\n",
       "      <th>Bathrooms</th>\n",
       "      <th>Square_Footage</th>\n",
       "      <th>Neighborhood</th>\n",
       "      <th>Year_Built</th>\n",
       "      <th>Price</th>\n",
       "    </tr>\n",
       "  </thead>\n",
       "  <tbody>\n",
       "    <tr>\n",
       "      <th>0</th>\n",
       "      <td>1.0</td>\n",
       "      <td>1.0</td>\n",
       "      <td>800</td>\n",
       "      <td>rural</td>\n",
       "      <td>1991.0</td>\n",
       "      <td>3000000.0</td>\n",
       "    </tr>\n",
       "    <tr>\n",
       "      <th>1</th>\n",
       "      <td>1.0</td>\n",
       "      <td>2.0</td>\n",
       "      <td>900</td>\n",
       "      <td>rural</td>\n",
       "      <td>2004.0</td>\n",
       "      <td>3500000.0</td>\n",
       "    </tr>\n",
       "    <tr>\n",
       "      <th>2</th>\n",
       "      <td>2.0</td>\n",
       "      <td>1.0</td>\n",
       "      <td>1000</td>\n",
       "      <td>urban</td>\n",
       "      <td>1994.0</td>\n",
       "      <td>4500000.0</td>\n",
       "    </tr>\n",
       "    <tr>\n",
       "      <th>3</th>\n",
       "      <td>2.0</td>\n",
       "      <td>2.0</td>\n",
       "      <td>1200</td>\n",
       "      <td>rural</td>\n",
       "      <td>2002.0</td>\n",
       "      <td>5000000.0</td>\n",
       "    </tr>\n",
       "    <tr>\n",
       "      <th>4</th>\n",
       "      <td>3.0</td>\n",
       "      <td>2.0</td>\n",
       "      <td>1400</td>\n",
       "      <td>urban</td>\n",
       "      <td>2003.0</td>\n",
       "      <td>6500000.0</td>\n",
       "    </tr>\n",
       "    <tr>\n",
       "      <th>5</th>\n",
       "      <td>3.0</td>\n",
       "      <td>3.0</td>\n",
       "      <td>1500</td>\n",
       "      <td>urban</td>\n",
       "      <td>1989.0</td>\n",
       "      <td>7000000.0</td>\n",
       "    </tr>\n",
       "  </tbody>\n",
       "</table>\n",
       "</div>"
      ],
      "text/plain": [
       "   Rooms  Bathrooms  Square_Footage Neighborhood  Year_Built      Price\n",
       "0    1.0        1.0             800        rural      1991.0  3000000.0\n",
       "1    1.0        2.0             900        rural      2004.0  3500000.0\n",
       "2    2.0        1.0            1000        urban      1994.0  4500000.0\n",
       "3    2.0        2.0            1200        rural      2002.0  5000000.0\n",
       "4    3.0        2.0            1400        urban      2003.0  6500000.0\n",
       "5    3.0        3.0            1500        urban      1989.0  7000000.0"
      ]
     },
     "execution_count": 7,
     "metadata": {},
     "output_type": "execute_result"
    }
   ],
   "source": [
    "house_data.dropna()"
   ]
  },
  {
   "cell_type": "markdown",
   "id": "2b9ab046-6acf-43ef-a371-f5adfb87bff1",
   "metadata": {},
   "source": [
    "nan values"
   ]
  },
  {
   "cell_type": "code",
   "execution_count": 8,
   "id": "e35ea854-873b-4fca-80fc-282bb9146f9c",
   "metadata": {},
   "outputs": [
    {
     "data": {
      "text/html": [
       "<div>\n",
       "<style scoped>\n",
       "    .dataframe tbody tr th:only-of-type {\n",
       "        vertical-align: middle;\n",
       "    }\n",
       "\n",
       "    .dataframe tbody tr th {\n",
       "        vertical-align: top;\n",
       "    }\n",
       "\n",
       "    .dataframe thead th {\n",
       "        text-align: right;\n",
       "    }\n",
       "</style>\n",
       "<table border=\"1\" class=\"dataframe\">\n",
       "  <thead>\n",
       "    <tr style=\"text-align: right;\">\n",
       "      <th></th>\n",
       "      <th>Rooms</th>\n",
       "      <th>Bathrooms</th>\n",
       "      <th>Square_Footage</th>\n",
       "      <th>Neighborhood</th>\n",
       "      <th>Year_Built</th>\n",
       "      <th>Price</th>\n",
       "    </tr>\n",
       "  </thead>\n",
       "  <tbody>\n",
       "    <tr>\n",
       "      <th>0</th>\n",
       "      <td>1.0</td>\n",
       "      <td>1.0</td>\n",
       "      <td>800</td>\n",
       "      <td>rural</td>\n",
       "      <td>1991.0</td>\n",
       "      <td>3000000.0</td>\n",
       "    </tr>\n",
       "    <tr>\n",
       "      <th>1</th>\n",
       "      <td>1.0</td>\n",
       "      <td>2.0</td>\n",
       "      <td>900</td>\n",
       "      <td>rural</td>\n",
       "      <td>2004.0</td>\n",
       "      <td>3500000.0</td>\n",
       "    </tr>\n",
       "    <tr>\n",
       "      <th>2</th>\n",
       "      <td>2.0</td>\n",
       "      <td>1.0</td>\n",
       "      <td>1000</td>\n",
       "      <td>urban</td>\n",
       "      <td>1994.0</td>\n",
       "      <td>4500000.0</td>\n",
       "    </tr>\n",
       "    <tr>\n",
       "      <th>3</th>\n",
       "      <td>2.0</td>\n",
       "      <td>2.0</td>\n",
       "      <td>1200</td>\n",
       "      <td>rural</td>\n",
       "      <td>2002.0</td>\n",
       "      <td>5000000.0</td>\n",
       "    </tr>\n",
       "    <tr>\n",
       "      <th>4</th>\n",
       "      <td>3.0</td>\n",
       "      <td>2.0</td>\n",
       "      <td>1400</td>\n",
       "      <td>urban</td>\n",
       "      <td>2003.0</td>\n",
       "      <td>6500000.0</td>\n",
       "    </tr>\n",
       "    <tr>\n",
       "      <th>5</th>\n",
       "      <td>3.0</td>\n",
       "      <td>3.0</td>\n",
       "      <td>1500</td>\n",
       "      <td>urban</td>\n",
       "      <td>1989.0</td>\n",
       "      <td>7000000.0</td>\n",
       "    </tr>\n",
       "    <tr>\n",
       "      <th>6</th>\n",
       "      <td>NaN</td>\n",
       "      <td>2.0</td>\n",
       "      <td>1700</td>\n",
       "      <td>urban</td>\n",
       "      <td>NaN</td>\n",
       "      <td>8000000.0</td>\n",
       "    </tr>\n",
       "    <tr>\n",
       "      <th>7</th>\n",
       "      <td>4.0</td>\n",
       "      <td>NaN</td>\n",
       "      <td>2100</td>\n",
       "      <td>rural</td>\n",
       "      <td>2012.0</td>\n",
       "      <td>NaN</td>\n",
       "    </tr>\n",
       "  </tbody>\n",
       "</table>\n",
       "</div>"
      ],
      "text/plain": [
       "   Rooms  Bathrooms  Square_Footage Neighborhood  Year_Built      Price\n",
       "0    1.0        1.0             800        rural      1991.0  3000000.0\n",
       "1    1.0        2.0             900        rural      2004.0  3500000.0\n",
       "2    2.0        1.0            1000        urban      1994.0  4500000.0\n",
       "3    2.0        2.0            1200        rural      2002.0  5000000.0\n",
       "4    3.0        2.0            1400        urban      2003.0  6500000.0\n",
       "5    3.0        3.0            1500        urban      1989.0  7000000.0\n",
       "6    NaN        2.0            1700        urban         NaN  8000000.0\n",
       "7    4.0        NaN            2100        rural      2012.0        NaN"
      ]
     },
     "execution_count": 8,
     "metadata": {},
     "output_type": "execute_result"
    }
   ],
   "source": [
    "\n",
    "house_data.dropna(thresh=2)"
   ]
  },
  {
   "cell_type": "markdown",
   "id": "4a8b38e0-8f35-448e-a2bb-8573424bfbe9",
   "metadata": {},
   "source": [
    "# replacing missing values in the Rooms column with the mean of the column"
   ]
  },
  {
   "cell_type": "code",
   "execution_count": 9,
   "id": "205d43eb-bb18-4cad-b227-0576d997e8d8",
   "metadata": {},
   "outputs": [],
   "source": [
    "\n",
    "house_data['Rooms'].fillna(house_data['Rooms'].mean(), inplace=True)"
   ]
  },
  {
   "cell_type": "code",
   "execution_count": 10,
   "id": "a86a0e59-b4f8-4757-8c43-a1732f9db2e4",
   "metadata": {},
   "outputs": [
    {
     "name": "stdout",
     "output_type": "stream",
     "text": [
      "      Rooms  Bathrooms  Square_Footage Neighborhood  Year_Built      Price\n",
      "0  1.000000        1.0             800        rural      1991.0  3000000.0\n",
      "1  1.000000        2.0             900        rural      2004.0  3500000.0\n",
      "2  2.000000        1.0            1000        urban      1994.0  4500000.0\n",
      "3  2.000000        2.0            1200        rural      2002.0  5000000.0\n",
      "4  3.000000        2.0            1400        urban      2003.0  6500000.0\n",
      "5  3.000000        3.0            1500        urban      1989.0  7000000.0\n",
      "6  2.285714        2.0            1700        urban         NaN  8000000.0\n",
      "7  4.000000        NaN            2100        rural      2012.0        NaN\n"
     ]
    }
   ],
   "source": [
    "print(house_data)"
   ]
  },
  {
   "cell_type": "code",
   "execution_count": 11,
   "id": "52217bba-0a06-43e8-8d5e-36985bdbc625",
   "metadata": {},
   "outputs": [],
   "source": [
    "house_data['Bathrooms'].fillna(house_data['Bathrooms'].median(), inplace=True)"
   ]
  },
  {
   "cell_type": "code",
   "execution_count": 12,
   "id": "fa18b335-c6f4-43c4-9702-25cb8786ccca",
   "metadata": {},
   "outputs": [
    {
     "name": "stdout",
     "output_type": "stream",
     "text": [
      "      Rooms  Bathrooms  Square_Footage Neighborhood  Year_Built      Price\n",
      "0  1.000000        1.0             800        rural      1991.0  3000000.0\n",
      "1  1.000000        2.0             900        rural      2004.0  3500000.0\n",
      "2  2.000000        1.0            1000        urban      1994.0  4500000.0\n",
      "3  2.000000        2.0            1200        rural      2002.0  5000000.0\n",
      "4  3.000000        2.0            1400        urban      2003.0  6500000.0\n",
      "5  3.000000        3.0            1500        urban      1989.0  7000000.0\n",
      "6  2.285714        2.0            1700        urban         NaN  8000000.0\n",
      "7  4.000000        2.0            2100        rural      2012.0        NaN\n"
     ]
    }
   ],
   "source": [
    "print(house_data)"
   ]
  },
  {
   "cell_type": "markdown",
   "id": "0a7af477-23dc-4bc4-bbc3-ea4d6719a841",
   "metadata": {},
   "source": [
    "# replacing categorical values with numeric data"
   ]
  },
  {
   "cell_type": "code",
   "execution_count": 13,
   "id": "dc98539f-d813-4496-b3cc-ae5ed798ce79",
   "metadata": {},
   "outputs": [],
   "source": [
    "\n",
    "house_data['Neighborhood'] = house_data['Neighborhood'].replace({'rural': 1, 'urban': 2})"
   ]
  },
  {
   "cell_type": "code",
   "execution_count": 14,
   "id": "ba8eb65d-3002-4330-80eb-4f5fb7b49d70",
   "metadata": {},
   "outputs": [
    {
     "name": "stdout",
     "output_type": "stream",
     "text": [
      "      Rooms  Bathrooms  Square_Footage  Neighborhood  Year_Built      Price\n",
      "0  1.000000        1.0             800             1      1991.0  3000000.0\n",
      "1  1.000000        2.0             900             1      2004.0  3500000.0\n",
      "2  2.000000        1.0            1000             2      1994.0  4500000.0\n",
      "3  2.000000        2.0            1200             1      2002.0  5000000.0\n",
      "4  3.000000        2.0            1400             2      2003.0  6500000.0\n",
      "5  3.000000        3.0            1500             2      1989.0  7000000.0\n",
      "6  2.285714        2.0            1700             2         NaN  8000000.0\n",
      "7  4.000000        2.0            2100             1      2012.0        NaN\n"
     ]
    }
   ],
   "source": [
    "print(house_data)"
   ]
  },
  {
   "cell_type": "markdown",
   "id": "f3809186-3cde-4872-ac60-eb974aeddfbe",
   "metadata": {},
   "source": [
    "# converting Neighborhood column to a categorical data type"
   ]
  },
  {
   "cell_type": "code",
   "execution_count": 15,
   "id": "3202a3f3-b6ad-4473-a549-a7f52e724801",
   "metadata": {},
   "outputs": [],
   "source": [
    "\n",
    "house_data['Neighborhood'] = house_data['Neighborhood'].astype('category')"
   ]
  },
  {
   "cell_type": "code",
   "execution_count": 16,
   "id": "ab032cdf-e9a2-4a56-a0a1-5283556beeff",
   "metadata": {},
   "outputs": [
    {
     "name": "stdout",
     "output_type": "stream",
     "text": [
      "Rooms              float64\n",
      "Bathrooms          float64\n",
      "Square_Footage       int64\n",
      "Neighborhood      category\n",
      "Year_Built         float64\n",
      "Price              float64\n",
      "dtype: object\n"
     ]
    }
   ],
   "source": [
    "print(house_data.dtypes)"
   ]
  },
  {
   "cell_type": "code",
   "execution_count": 17,
   "id": "2b9116ee-528e-4304-b21d-63e721e8b0f0",
   "metadata": {},
   "outputs": [],
   "source": [
    "neighborhood_dum = pd.get_dummies(house_data['Neighborhood'], prefix='Neighborhood')"
   ]
  },
  {
   "cell_type": "code",
   "execution_count": 18,
   "id": "15306916-2c6c-4b0c-934b-ba8012885a1f",
   "metadata": {},
   "outputs": [],
   "source": [
    "house_data = pd.concat([house_data, neighborhood_dum], axis=1)"
   ]
  },
  {
   "cell_type": "code",
   "execution_count": 19,
   "id": "ce83ad4c-ac4d-457a-9aac-73155e065ee6",
   "metadata": {},
   "outputs": [
    {
     "name": "stdout",
     "output_type": "stream",
     "text": [
      "      Rooms  Bathrooms  Square_Footage Neighborhood  Year_Built      Price  \\\n",
      "0  1.000000        1.0             800            1      1991.0  3000000.0   \n",
      "1  1.000000        2.0             900            1      2004.0  3500000.0   \n",
      "2  2.000000        1.0            1000            2      1994.0  4500000.0   \n",
      "3  2.000000        2.0            1200            1      2002.0  5000000.0   \n",
      "4  3.000000        2.0            1400            2      2003.0  6500000.0   \n",
      "5  3.000000        3.0            1500            2      1989.0  7000000.0   \n",
      "6  2.285714        2.0            1700            2         NaN  8000000.0   \n",
      "7  4.000000        2.0            2100            1      2012.0        NaN   \n",
      "\n",
      "   Neighborhood_1  Neighborhood_2  \n",
      "0               1               0  \n",
      "1               1               0  \n",
      "2               0               1  \n",
      "3               1               0  \n",
      "4               0               1  \n",
      "5               0               1  \n",
      "6               0               1  \n",
      "7               1               0  \n"
     ]
    }
   ],
   "source": [
    "print(house_data)"
   ]
  },
  {
   "cell_type": "markdown",
   "id": "2e2d465e-8191-4261-862c-c37b6a0b234d",
   "metadata": {},
   "source": [
    "# Sklearn-ordinalencoding()"
   ]
  },
  {
   "cell_type": "code",
   "execution_count": 21,
   "id": "74ec2d95-802b-4383-ab55-a2cd585e020f",
   "metadata": {},
   "outputs": [],
   "source": [
    "import pandas as pd\n",
    "import numpy as np\n",
    "from sklearn.preprocessing import OrdinalEncoder"
   ]
  },
  {
   "cell_type": "code",
   "execution_count": 22,
   "id": "f2e620bd-273a-4858-8c45-872df2425f34",
   "metadata": {},
   "outputs": [],
   "source": [
    "a = {'Rooms': [1,1,2,2,3,3,np.nan, 4],\n",
    "        'Bathrooms': [1,2,1,2,2,3,2, np.nan],\n",
    "        'Square_Footage': [800, 900, 1000, 1200, 1400, 1500, 1700, 2100],\n",
    "        'Neighborhood': ['rural','rural','urban','rural','urban','urban','urban','rural'],\n",
    "        'Year_Built': [1991, 2004, 1994, 2002, 2003, 1989, np.nan, 2012],\n",
    "        'Price': [3000000, 3500000, 4500000, 5000000, 6500000, 7000000, 8000000, np.nan]}"
   ]
  },
  {
   "cell_type": "code",
   "execution_count": 23,
   "id": "9708af8a-6f3a-4baa-90a4-4952825d5d4b",
   "metadata": {},
   "outputs": [],
   "source": [
    "house=pd.DataFrame(a,index=[1,2,3,4,5,6,7,8])\n",
    "encoder=OrdinalEncoder()\n",
    "house[\"Rooms_encoded\"]=encoder.fit_transform(house[['Rooms']])"
   ]
  },
  {
   "cell_type": "code",
   "execution_count": 24,
   "id": "2502ceaa-fd9c-4412-97fb-7ce226083ba9",
   "metadata": {},
   "outputs": [
    {
     "name": "stdout",
     "output_type": "stream",
     "text": [
      "1    0.0\n",
      "2    0.0\n",
      "3    1.0\n",
      "4    1.0\n",
      "5    2.0\n",
      "6    2.0\n",
      "7    NaN\n",
      "8    3.0\n",
      "Name: Rooms_encoded, dtype: float64\n"
     ]
    }
   ],
   "source": [
    "print(house['Rooms_encoded'])"
   ]
  },
  {
   "cell_type": "code",
   "execution_count": null,
   "id": "6f20603b-7f44-414c-91b2-cfcb0def7eaa",
   "metadata": {},
   "outputs": [],
   "source": []
  },
  {
   "cell_type": "code",
   "execution_count": null,
   "id": "757aff97-7979-428b-9ecc-52327dd5a88c",
   "metadata": {},
   "outputs": [],
   "source": []
  },
  {
   "cell_type": "code",
   "execution_count": null,
   "id": "032a3084-0980-4efb-9f54-13d2ee91b632",
   "metadata": {},
   "outputs": [],
   "source": []
  },
  {
   "cell_type": "code",
   "execution_count": null,
   "id": "83e5da1f-a117-4524-8c10-f8bd57f9fd1f",
   "metadata": {},
   "outputs": [],
   "source": []
  }
 ],
 "metadata": {
  "kernelspec": {
   "display_name": "Python 3 (ipykernel)",
   "language": "python",
   "name": "python3"
  },
  "language_info": {
   "codemirror_mode": {
    "name": "ipython",
    "version": 3
   },
   "file_extension": ".py",
   "mimetype": "text/x-python",
   "name": "python",
   "nbconvert_exporter": "python",
   "pygments_lexer": "ipython3",
   "version": "3.9.13"
  }
 },
 "nbformat": 4,
 "nbformat_minor": 5
}
